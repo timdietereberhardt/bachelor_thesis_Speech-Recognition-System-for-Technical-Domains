{
  "nbformat": 4,
  "nbformat_minor": 0,
  "metadata": {
    "colab": {
      "name": "5_Test.ipynb",
      "provenance": [],
      "collapsed_sections": [],
      "toc_visible": true
    },
    "kernelspec": {
      "name": "python3",
      "display_name": "Python 3"
    }
  },
  "cells": [
    {
      "cell_type": "markdown",
      "metadata": {
        "id": "ckFC4PEM2F49",
        "colab_type": "text"
      },
      "source": [
        "# Information about the notebook\n",
        "The notebook is splitted into 4 parts: <br>\n",
        "1: Basics <br>\n",
        "2: Load the model to test it <br>\n",
        "3: Prepare the test data <br>\n",
        "4: Test the model <br>\n"
      ]
    },
    {
      "cell_type": "markdown",
      "metadata": {
        "id": "FGlQfYXG19jQ",
        "colab_type": "text"
      },
      "source": [
        "# Basics"
      ]
    },
    {
      "cell_type": "code",
      "metadata": {
        "id": "mDIDQG_kMq36",
        "colab_type": "code",
        "colab": {}
      },
      "source": [
        "#Python packages for preparing the data\n",
        "import os\n",
        "import shutil as sys\n",
        "import glob\n",
        "import sys\n",
        "import csv\n",
        "\n",
        "#Python packages for audio files\n",
        "import wave\n",
        "import librosa   #for audio processing\n",
        "import numpy as np\n",
        "from scipy.io import wavfile #for audio processing\n",
        "import pandas as pd\n",
        "import sklearn\n",
        "import tensorflow as tf\n"
      ],
      "execution_count": 0,
      "outputs": []
    },
    {
      "cell_type": "code",
      "metadata": {
        "id": "2RIb3Ub9MxEe",
        "colab_type": "code",
        "colab": {}
      },
      "source": [
        "from google.colab import drive\n",
        "drive.mount('/content/drive')"
      ],
      "execution_count": 0,
      "outputs": []
    },
    {
      "cell_type": "markdown",
      "metadata": {
        "id": "RFAw5yrwM1FY",
        "colab_type": "text"
      },
      "source": [
        "# Load the final model"
      ]
    },
    {
      "cell_type": "code",
      "metadata": {
        "id": "-MEot4ocM0Pa",
        "colab_type": "code",
        "outputId": "34ff3a80-92ca-466d-cbf5-b3da0a60d410",
        "colab": {
          "base_uri": "https://localhost:8080/",
          "height": 527
        }
      },
      "source": [
        "from tensorflow.keras.models import load_model\n",
        "model = load_model('/content/drive/My Drive/test_data/final_model.h5')\n",
        "model.summary()\n"
      ],
      "execution_count": 0,
      "outputs": [
        {
          "output_type": "stream",
          "text": [
            "Model: \"sequential_2\"\n",
            "_________________________________________________________________\n",
            "Layer (type)                 Output Shape              Param #   \n",
            "=================================================================\n",
            "gru (GRU)                    (None, 20, 1024)          3197952   \n",
            "_________________________________________________________________\n",
            "dropout (Dropout)            (None, 20, 1024)          0         \n",
            "_________________________________________________________________\n",
            "gru_1 (GRU)                  (None, 20, 512)           2360832   \n",
            "_________________________________________________________________\n",
            "dropout_1 (Dropout)          (None, 20, 512)           0         \n",
            "_________________________________________________________________\n",
            "gru_2 (GRU)                  (None, 20, 256)           590592    \n",
            "_________________________________________________________________\n",
            "dropout_2 (Dropout)          (None, 20, 256)           0         \n",
            "_________________________________________________________________\n",
            "gru_3 (GRU)                  (None, 20, 128)           147840    \n",
            "_________________________________________________________________\n",
            "dropout_3 (Dropout)          (None, 20, 128)           0         \n",
            "_________________________________________________________________\n",
            "gru_4 (GRU)                  (None, 64)                37056     \n",
            "_________________________________________________________________\n",
            "dropout_4 (Dropout)          (None, 64)                0         \n",
            "_________________________________________________________________\n",
            "dense_2 (Dense)              (None, 9)                 585       \n",
            "=================================================================\n",
            "Total params: 6,334,857\n",
            "Trainable params: 6,334,857\n",
            "Non-trainable params: 0\n",
            "_________________________________________________________________\n"
          ],
          "name": "stdout"
        }
      ]
    },
    {
      "cell_type": "markdown",
      "metadata": {
        "id": "1b-r4davCCaj",
        "colab_type": "text"
      },
      "source": [
        "# Prepare the data"
      ]
    },
    {
      "cell_type": "markdown",
      "metadata": {
        "id": "2jlQH3DzM45q",
        "colab_type": "text"
      },
      "source": [
        "Unzip the test data"
      ]
    },
    {
      "cell_type": "code",
      "metadata": {
        "id": "F2S_0m65M65F",
        "colab_type": "code",
        "colab": {}
      },
      "source": [
        "#for Google Drive\n",
        "!unzip -uq '/content/drive/My Drive/test_data/comparison_data.zip'"
      ],
      "execution_count": 0,
      "outputs": []
    },
    {
      "cell_type": "markdown",
      "metadata": {
        "id": "L4OlV6af2Xch",
        "colab_type": "text"
      },
      "source": [
        "Delete the folder"
      ]
    },
    {
      "cell_type": "code",
      "metadata": {
        "id": "conZk8y3NaQP",
        "colab_type": "code",
        "colab": {}
      },
      "source": [
        "!rm -rf __MACOSX/"
      ],
      "execution_count": 0,
      "outputs": []
    },
    {
      "cell_type": "markdown",
      "metadata": {
        "id": "BP9470Or2ZHB",
        "colab_type": "text"
      },
      "source": [
        "Create a label list"
      ]
    },
    {
      "cell_type": "code",
      "metadata": {
        "id": "a2xxfAgeNb6q",
        "colab_type": "code",
        "outputId": "1ac4bb20-8679-4672-d9df-ba95f97a675c",
        "colab": {
          "base_uri": "https://localhost:8080/",
          "height": 71
        }
      },
      "source": [
        "label_list = os.listdir('/content/comparison_data')\n",
        "print(\"Original:\", label_list)\n",
        "label_list.remove('.DS_Store')\n",
        "label_list.remove('_background_noise_')\n",
        "print(\"Removed:\",label_list)"
      ],
      "execution_count": 0,
      "outputs": [
        {
          "output_type": "stream",
          "text": [
            "Original: ['_background_noise_', 'balls_screw_drive', 'error_logs', '.DS_Store', 'air_pressure_alert', 'stop', 'reutlingen', 'cnc', 'measurement_system', 'alert', 'nc_alert']\n",
            "Removed: ['balls_screw_drive', 'error_logs', 'air_pressure_alert', 'stop', 'reutlingen', 'cnc', 'measurement_system', 'alert', 'nc_alert']\n"
          ],
          "name": "stdout"
        }
      ]
    },
    {
      "cell_type": "markdown",
      "metadata": {
        "id": "JYDVWOmjEWAn",
        "colab_type": "text"
      },
      "source": [
        "Define func to convert the wav files into mfcc data"
      ]
    },
    {
      "cell_type": "code",
      "metadata": {
        "id": "XKminAz6NjE5",
        "colab_type": "code",
        "colab": {}
      },
      "source": [
        "def create_array_with_samples(label_list, audio_path):\n",
        "\n",
        "  length = 0\n",
        "  all_wave = []\n",
        "  all_label = []\n",
        "\n",
        "  for label in label_list:\n",
        "      print(\"Label: \", label)\n",
        "      waves = [f for f in os.listdir(audio_path + '/'+ label) if f.endswith('.wav')]\n",
        "      #Get the number of all files\n",
        "      length += len(waves)\n",
        "\n",
        "      for wav in waves:\n",
        "          print(audio_path + '/' + label + '/' + wav)\n",
        "\n",
        "          #Get sample rate\n",
        "          #with wave.open(audio_path + '/' + label + '/' + wav, \"rb\") as wave_file:\n",
        "          #    frame_rate = wave_file.getframerate()\n",
        "\n",
        "          #Extract samples in array\n",
        "          samples, sample_rate = librosa.load(audio_path + '/' + label + '/' + wav, sr = 8000)\n",
        "          samples = librosa.resample(samples, len(samples), 8000)\n",
        "          \n",
        "          if(len(samples)== 8000) : \n",
        "              all_wave.append(samples)\n",
        "              all_label.append(label)\n",
        "          else:\n",
        "            print(\"Wrong Sample Rate:\", len(samples),\" File:\", label + \"/\" + wav)\n",
        "\n",
        "          #Create 2 empty lists, seq = sequential for RNN\n",
        "          x_seq_train = []\n",
        "\n",
        "\n",
        "          for i in range(0,len(all_wave)):\n",
        "              add = librosa.feature.mfcc(all_wave[i].astype(float),sr=8000)\n",
        "              #Normalize each element of the array\n",
        "              add = sklearn.preprocessing.normalize(add)\n",
        "              #Add the mfcc data to the RNN input array\n",
        "              x_seq_train.append(add)\n",
        "\n",
        "  return x_seq_train, all_label, length"
      ],
      "execution_count": 0,
      "outputs": []
    },
    {
      "cell_type": "markdown",
      "metadata": {
        "id": "bT7F2nPqEbEW",
        "colab_type": "text"
      },
      "source": [
        "Call the function"
      ]
    },
    {
      "cell_type": "code",
      "metadata": {
        "id": "j6ATZPnNNl1X",
        "colab_type": "code",
        "outputId": "6f9698a2-d1e9-4059-c1be-8ae9d4854b69",
        "colab": {
          "base_uri": "https://localhost:8080/",
          "height": 833
        }
      },
      "source": [
        "all_wave, all_label, length = create_array_with_samples(label_list, '/content/comparison_data')\n",
        "#Check the sizes\n",
        "#Print the length of the arrays\n",
        "print(\"Length all_wave array\", type(all_wave), len(all_wave), all_wave[1].shape)\n",
        "print(\"Length all_label\", type(all_label), len(all_label))\n",
        "print(\"Loops: \", length)"
      ],
      "execution_count": 0,
      "outputs": [
        {
          "output_type": "stream",
          "text": [
            "Label:  balls_screw_drive\n",
            "/content/comparison_data/balls_screw_drive/20_no_hash_1.wav\n",
            "/content/comparison_data/balls_screw_drive/20_no_hash_0.wav\n",
            "/content/comparison_data/balls_screw_drive/3_no_hash_1.wav\n",
            "/content/comparison_data/balls_screw_drive/3_no_hash_0.wav\n",
            "Label:  error_logs\n",
            "/content/comparison_data/error_logs/14_no_hash_1.wav\n",
            "/content/comparison_data/error_logs/34_no_hash_0.wav\n",
            "/content/comparison_data/error_logs/14_no_hash_0.wav\n",
            "/content/comparison_data/error_logs/34_no_hash_1.wav\n",
            "Label:  air_pressure_alert\n",
            "/content/comparison_data/air_pressure_alert/4_no_hash_0.wav\n",
            "/content/comparison_data/air_pressure_alert/57_no_hash_1.wav\n",
            "/content/comparison_data/air_pressure_alert/4_no_hash_1.wav\n",
            "/content/comparison_data/air_pressure_alert/57_no_hash_0.wav\n",
            "Label:  stop\n",
            "/content/comparison_data/stop/19_no_hash_1.wav\n",
            "/content/comparison_data/stop/45_no_hash_0.wav\n",
            "/content/comparison_data/stop/19_no_hash_0.wav\n",
            "/content/comparison_data/stop/45_no_hash_1.wav\n",
            "Label:  reutlingen\n",
            "/content/comparison_data/reutlingen/53_no_hash_1.wav\n",
            "/content/comparison_data/reutlingen/53_no_hash_0.wav\n",
            "/content/comparison_data/reutlingen/23_no_hash_0.wav\n",
            "/content/comparison_data/reutlingen/23_no_hash_1.wav\n",
            "Label:  cnc\n",
            "/content/comparison_data/cnc/13_no_hash_0.wav\n",
            "/content/comparison_data/cnc/69_no_hash_1.wav\n",
            "/content/comparison_data/cnc/13_no_hash_1.wav\n",
            "/content/comparison_data/cnc/69_no_hash_0.wav\n",
            "Label:  measurement_system\n",
            "/content/comparison_data/measurement_system/1_no_hash_1.wav\n",
            "/content/comparison_data/measurement_system/55_no_hash_0.wav\n",
            "/content/comparison_data/measurement_system/55_no_hash_1.wav\n",
            "/content/comparison_data/measurement_system/1_no_hash_0.wav\n",
            "Label:  alert\n",
            "/content/comparison_data/alert/59_no_hash_1.wav\n",
            "/content/comparison_data/alert/9_no_hash_0.wav\n",
            "/content/comparison_data/alert/9_no_hash_1.wav\n",
            "/content/comparison_data/alert/59_no_hash_0.wav\n",
            "Label:  nc_alert\n",
            "/content/comparison_data/nc_alert/11_no_hash_1.wav\n",
            "/content/comparison_data/nc_alert/66_no_hash_1.wav\n",
            "/content/comparison_data/nc_alert/66_no_hash_0.wav\n",
            "/content/comparison_data/nc_alert/11_no_hash_0.wav\n",
            "Length all_wave array <class 'list'> 36 (20, 16)\n",
            "Length all_label <class 'list'> 36\n",
            "Loops:  36\n"
          ],
          "name": "stdout"
        }
      ]
    },
    {
      "cell_type": "markdown",
      "metadata": {
        "id": "mHEDdoqlDB7n",
        "colab_type": "text"
      },
      "source": [
        "Safe the labels in a csv file for every record"
      ]
    },
    {
      "cell_type": "code",
      "metadata": {
        "id": "nJ835MreDNCA",
        "colab_type": "code",
        "colab": {}
      },
      "source": [
        "my_df = pd.DataFrame(all_label)\n",
        "my_df.to_csv('test_data_true.csv', index=False, header=False)"
      ],
      "execution_count": 0,
      "outputs": []
    },
    {
      "cell_type": "markdown",
      "metadata": {
        "id": "fyh3vsTzDNwW",
        "colab_type": "text"
      },
      "source": [
        "Code the labels "
      ]
    },
    {
      "cell_type": "code",
      "metadata": {
        "id": "0KP4p7qrNwPB",
        "colab_type": "code",
        "outputId": "b6308cab-f5c9-4f0e-b939-e65d0f733c05",
        "colab": {
          "base_uri": "https://localhost:8080/",
          "height": 680
        }
      },
      "source": [
        "from sklearn.preprocessing import LabelEncoder\n",
        "le = LabelEncoder()\n",
        "\n",
        "output = le.fit_transform(all_label)\n",
        "classes= list(le.classes_)\n",
        "print(output)\n",
        "print(output[1])\n",
        "\n",
        "#Note: variables must be int!\n",
        "from keras.utils import np_utils\n",
        "\n",
        "output = np_utils.to_categorical(output, num_classes=len(label_list))\n",
        "\n",
        "print(output)"
      ],
      "execution_count": 0,
      "outputs": [
        {
          "output_type": "stream",
          "text": [
            "[2 2 2 2 4 4 4 4 0 0 0 0 8 8 8 8 7 7 7 7 3 3 3 3 5 5 5 5 1 1 1 1 6 6 6 6]\n",
            "2\n",
            "[[0. 0. 1. 0. 0. 0. 0. 0. 0.]\n",
            " [0. 0. 1. 0. 0. 0. 0. 0. 0.]\n",
            " [0. 0. 1. 0. 0. 0. 0. 0. 0.]\n",
            " [0. 0. 1. 0. 0. 0. 0. 0. 0.]\n",
            " [0. 0. 0. 0. 1. 0. 0. 0. 0.]\n",
            " [0. 0. 0. 0. 1. 0. 0. 0. 0.]\n",
            " [0. 0. 0. 0. 1. 0. 0. 0. 0.]\n",
            " [0. 0. 0. 0. 1. 0. 0. 0. 0.]\n",
            " [1. 0. 0. 0. 0. 0. 0. 0. 0.]\n",
            " [1. 0. 0. 0. 0. 0. 0. 0. 0.]\n",
            " [1. 0. 0. 0. 0. 0. 0. 0. 0.]\n",
            " [1. 0. 0. 0. 0. 0. 0. 0. 0.]\n",
            " [0. 0. 0. 0. 0. 0. 0. 0. 1.]\n",
            " [0. 0. 0. 0. 0. 0. 0. 0. 1.]\n",
            " [0. 0. 0. 0. 0. 0. 0. 0. 1.]\n",
            " [0. 0. 0. 0. 0. 0. 0. 0. 1.]\n",
            " [0. 0. 0. 0. 0. 0. 0. 1. 0.]\n",
            " [0. 0. 0. 0. 0. 0. 0. 1. 0.]\n",
            " [0. 0. 0. 0. 0. 0. 0. 1. 0.]\n",
            " [0. 0. 0. 0. 0. 0. 0. 1. 0.]\n",
            " [0. 0. 0. 1. 0. 0. 0. 0. 0.]\n",
            " [0. 0. 0. 1. 0. 0. 0. 0. 0.]\n",
            " [0. 0. 0. 1. 0. 0. 0. 0. 0.]\n",
            " [0. 0. 0. 1. 0. 0. 0. 0. 0.]\n",
            " [0. 0. 0. 0. 0. 1. 0. 0. 0.]\n",
            " [0. 0. 0. 0. 0. 1. 0. 0. 0.]\n",
            " [0. 0. 0. 0. 0. 1. 0. 0. 0.]\n",
            " [0. 0. 0. 0. 0. 1. 0. 0. 0.]\n",
            " [0. 1. 0. 0. 0. 0. 0. 0. 0.]\n",
            " [0. 1. 0. 0. 0. 0. 0. 0. 0.]\n",
            " [0. 1. 0. 0. 0. 0. 0. 0. 0.]\n",
            " [0. 1. 0. 0. 0. 0. 0. 0. 0.]\n",
            " [0. 0. 0. 0. 0. 0. 1. 0. 0.]\n",
            " [0. 0. 0. 0. 0. 0. 1. 0. 0.]\n",
            " [0. 0. 0. 0. 0. 0. 1. 0. 0.]\n",
            " [0. 0. 0. 0. 0. 0. 1. 0. 0.]]\n"
          ],
          "name": "stdout"
        },
        {
          "output_type": "stream",
          "text": [
            "Using TensorFlow backend.\n"
          ],
          "name": "stderr"
        }
      ]
    },
    {
      "cell_type": "markdown",
      "metadata": {
        "id": "Y2CqH2zGE9cW",
        "colab_type": "text"
      },
      "source": [
        "Safe coded labels into csv file"
      ]
    },
    {
      "cell_type": "code",
      "metadata": {
        "id": "JTLa9L9DFAVm",
        "colab_type": "code",
        "colab": {}
      },
      "source": [
        "my_df = pd.DataFrame(output)\n",
        "my_df.to_csv('test_data_output.csv', index=False, header=False)"
      ],
      "execution_count": 0,
      "outputs": []
    },
    {
      "cell_type": "markdown",
      "metadata": {
        "id": "OxVTVTIZDRkZ",
        "colab_type": "text"
      },
      "source": [
        "# Test the model\n"
      ]
    },
    {
      "cell_type": "code",
      "metadata": {
        "id": "zMDCJaVPN6Qq",
        "colab_type": "code",
        "outputId": "11f0cc0f-4063-44e3-a631-91e8dc2cf64c",
        "colab": {
          "base_uri": "https://localhost:8080/",
          "height": 1000
        }
      },
      "source": [
        "all_wave = np.array(all_wave)\n",
        "\n",
        "y_pred = model.predict(all_wave)\n",
        "print(y_pred.shape)\n",
        "print(y_pred)"
      ],
      "execution_count": 0,
      "outputs": [
        {
          "output_type": "stream",
          "text": [
            "(36, 9)\n",
            "[[6.39926657e-06 1.06687858e-05 9.99735415e-01 2.01892385e-06\n",
            "  2.95113227e-06 4.52028216e-05 6.40150392e-05 3.85191597e-05\n",
            "  9.48870365e-05]\n",
            " [3.56733523e-07 8.56019653e-07 9.99969006e-01 2.03621710e-07\n",
            "  1.89178806e-07 3.79312155e-06 3.15611533e-06 4.66809388e-06\n",
            "  1.77975380e-05]\n",
            " [2.42884744e-05 2.73544774e-05 9.99344647e-01 2.92693812e-06\n",
            "  9.00172017e-06 6.81202000e-05 3.40743631e-04 5.42681737e-05\n",
            "  1.28695843e-04]\n",
            " [1.59931247e-07 5.76081277e-07 9.99972939e-01 1.22561943e-07\n",
            "  1.13959871e-07 4.34691992e-06 2.31949184e-06 6.59879470e-06\n",
            "  1.28313786e-05]\n",
            " [9.73927617e-01 7.68517843e-04 2.09579768e-04 1.34717426e-04\n",
            "  9.45490971e-03 4.31565708e-03 9.34860390e-03 4.82868316e-04\n",
            "  1.35762896e-03]\n",
            " [8.27650147e-05 1.01733464e-03 2.35944506e-04 1.86197503e-04\n",
            "  9.97510672e-01 4.92229883e-05 2.35730713e-05 7.02868914e-04\n",
            "  1.91467334e-04]\n",
            " [1.51119832e-06 5.27240263e-06 4.71186240e-06 1.58957357e-06\n",
            "  9.99974489e-01 1.52288166e-07 1.87277621e-07 1.07511160e-05\n",
            "  1.27897317e-06]\n",
            " [1.76562066e-03 4.38346434e-03 1.77657418e-03 1.34945603e-03\n",
            "  9.85673070e-01 9.57948505e-04 4.11597139e-04 3.11793573e-03\n",
            "  5.64415590e-04]\n",
            " [9.00534317e-02 4.97399084e-03 3.33343744e-02 1.99302798e-03\n",
            "  6.47042366e-03 4.94988775e-03 8.48517239e-01 1.13695848e-03\n",
            "  8.57067667e-03]\n",
            " [6.40766288e-04 4.24353697e-04 2.05487799e-04 1.16903677e-04\n",
            "  9.98062909e-01 3.16861588e-05 8.08116456e-05 3.05434864e-04\n",
            "  1.31546680e-04]\n",
            " [2.66079664e-01 2.34724954e-02 1.40374303e-02 6.18332066e-03\n",
            "  1.69214495e-02 1.82750765e-02 6.23238206e-01 3.39514436e-03\n",
            "  2.83971913e-02]\n",
            " [7.43867189e-04 1.92875828e-04 7.92107530e-05 5.38824970e-05\n",
            "  9.98633325e-01 1.38036894e-05 7.72656713e-05 1.05854277e-04\n",
            "  9.98761825e-05]\n",
            " [1.91430782e-03 8.97064507e-01 9.18038655e-04 1.16284052e-03\n",
            "  1.82069896e-03 4.17401362e-03 5.24779723e-04 7.88398236e-02\n",
            "  1.35809304e-02]\n",
            " [8.07246380e-03 8.23719203e-02 3.38926017e-02 8.88518337e-03\n",
            "  2.03190390e-02 1.41931279e-03 6.12626731e-01 4.96593583e-03\n",
            "  2.27446854e-01]\n",
            " [3.02521439e-05 7.36237795e-04 8.57149735e-06 3.58410944e-05\n",
            "  1.10071080e-04 1.31333888e-06 3.61386010e-05 1.53732362e-05\n",
            "  9.99026179e-01]\n",
            " [2.25818194e-02 5.52699193e-02 1.80731148e-01 7.65618403e-03\n",
            "  3.37464064e-02 5.50885545e-03 6.40618801e-01 4.66307299e-03\n",
            "  4.92237955e-02]\n",
            " [1.59998843e-03 4.81319241e-03 1.61539569e-01 5.42910537e-03\n",
            "  2.81566684e-03 4.90755364e-02 1.03819452e-03 7.72946179e-01\n",
            "  7.42542499e-04]\n",
            " [9.95466689e-06 5.39545035e-05 4.79030376e-03 2.00337439e-04\n",
            "  5.14620751e-06 2.79396103e-04 2.26895395e-06 9.94635999e-01\n",
            "  2.26744087e-05]\n",
            " [2.84435009e-09 5.76957859e-08 2.20270479e-07 1.25459664e-07\n",
            "  4.96745423e-10 7.13588832e-08 8.82771495e-11 9.99999523e-01\n",
            "  1.32926896e-08]\n",
            " [1.04671545e-01 9.58613586e-03 6.30870834e-02 8.31058547e-02\n",
            "  7.84870908e-02 5.86414456e-01 2.38686632e-02 4.84907776e-02\n",
            "  2.28844676e-03]\n",
            " [5.78922425e-07 3.68202268e-06 9.32112471e-07 9.99945045e-01\n",
            "  2.50349717e-06 2.53117341e-05 1.78548009e-06 1.38263040e-05\n",
            "  6.30964450e-06]\n",
            " [3.82496893e-01 9.20420140e-02 9.03713182e-02 1.59457214e-02\n",
            "  5.89442812e-02 8.80348310e-02 1.77911565e-01 3.87826599e-02\n",
            "  5.54707050e-02]\n",
            " [8.85320663e-01 7.54468469e-03 4.03495040e-03 1.62082026e-03\n",
            "  1.38841122e-02 5.12801521e-02 2.61413809e-02 4.11739200e-03\n",
            "  6.05592458e-03]\n",
            " [6.94184064e-06 8.26538671e-05 6.68091525e-06 9.99509335e-01\n",
            "  1.01473370e-05 1.64558165e-04 1.96527126e-05 1.71644919e-04\n",
            "  2.83670252e-05]\n",
            " [9.73825157e-01 7.90913880e-04 2.34050472e-04 1.09698078e-04\n",
            "  1.37117051e-03 1.75371710e-02 4.82410891e-03 3.75145959e-04\n",
            "  9.32646682e-04]\n",
            " [2.57607386e-03 2.81652057e-04 3.11238901e-03 5.48306806e-03\n",
            "  2.72038713e-04 9.85916078e-01 7.88247780e-05 2.25838274e-03\n",
            "  2.15340242e-05]\n",
            " [9.15047765e-01 9.22066718e-03 2.44114082e-03 8.17796739e-04\n",
            "  8.32523033e-03 3.33445705e-02 2.04038695e-02 3.21161724e-03\n",
            "  7.18730409e-03]\n",
            " [1.03756718e-01 1.60458777e-03 2.89532356e-03 3.00660846e-03\n",
            "  6.60985417e-04 8.83142173e-01 3.48183978e-03 1.01555476e-03\n",
            "  4.36244765e-04]\n",
            " [4.04510111e-01 1.14069574e-01 2.46624183e-02 8.55169445e-03\n",
            "  7.23719224e-02 3.39518897e-02 2.66402185e-01 1.66987106e-02\n",
            "  5.87814301e-02]\n",
            " [2.72483567e-06 9.99449193e-01 3.13008445e-06 7.41028780e-05\n",
            "  3.08528892e-04 9.36683762e-07 5.37766346e-06 3.03916522e-06\n",
            "  1.52934590e-04]\n",
            " [3.47405672e-02 9.13943276e-02 7.05984421e-03 1.25991330e-02\n",
            "  7.63500810e-01 5.69671998e-03 3.14721018e-02 1.18891587e-02\n",
            "  4.16473225e-02]\n",
            " [4.42319131e-03 1.27071932e-01 5.74051403e-03 9.06773563e-03\n",
            "  1.39725134e-02 4.10017994e-04 7.31853426e-01 1.62940146e-03\n",
            "  1.05831273e-01]\n",
            " [2.54140437e-01 1.46924341e-02 6.46040589e-03 2.50417134e-03\n",
            "  8.60024896e-03 6.75660837e-03 6.90042496e-01 1.18340005e-03\n",
            "  1.56197501e-02]\n",
            " [8.60741556e-01 1.81895737e-02 5.57127874e-03 1.60337635e-03\n",
            "  1.58795863e-02 3.45723927e-02 4.32056934e-02 6.24897750e-03\n",
            "  1.39876185e-02]\n",
            " [6.44837390e-04 1.69882295e-03 3.82169383e-04 2.32829436e-04\n",
            "  1.47460043e-04 2.28653298e-05 9.94555473e-01 1.91684812e-05\n",
            "  2.29644240e-03]\n",
            " [1.52120410e-04 3.85754480e-04 2.25622061e-04 1.01481630e-04\n",
            "  5.44289251e-05 7.35520325e-06 9.98635352e-01 3.19217224e-06\n",
            "  4.34707152e-04]]\n"
          ],
          "name": "stdout"
        }
      ]
    },
    {
      "cell_type": "markdown",
      "metadata": {
        "id": "77RaR6CgDZ5A",
        "colab_type": "text"
      },
      "source": [
        "Safe predictions as a csv file"
      ]
    },
    {
      "cell_type": "code",
      "metadata": {
        "id": "DO1WG0LmDb8o",
        "colab_type": "code",
        "colab": {}
      },
      "source": [
        "my_df = pd.DataFrame(y_pred)\n",
        "my_df.to_csv('test_data_prediction.csv', index=False, header=False)"
      ],
      "execution_count": 0,
      "outputs": []
    }
  ]
}