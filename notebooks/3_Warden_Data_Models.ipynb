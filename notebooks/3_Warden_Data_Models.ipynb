{
  "nbformat": 4,
  "nbformat_minor": 0,
  "metadata": {
    "colab": {
      "name": "3_Warden_Data_Models.ipynb",
      "provenance": [],
      "collapsed_sections": [],
      "toc_visible": true
    },
    "kernelspec": {
      "name": "python3",
      "display_name": "Python 3"
    }
  },
  "cells": [
    {
      "cell_type": "markdown",
      "metadata": {
        "id": "nMIafbCGzy1V",
        "colab_type": "text"
      },
      "source": [
        "# Information about the notebook\n",
        "The notebook is splitted into 3 parts: <br>\n",
        "1: Basics <br>\n",
        "2: Load & Prepare the Warden data <br>\n",
        "3: Build the model <br>\n"
      ]
    },
    {
      "cell_type": "markdown",
      "metadata": {
        "id": "YsdPNhU7jKwi",
        "colab_type": "text"
      },
      "source": [
        "# Basics"
      ]
    },
    {
      "cell_type": "code",
      "metadata": {
        "id": "kbLmPHSXZI72",
        "colab_type": "code",
        "colab": {}
      },
      "source": [
        "#Python packages for preparing the data\n",
        "import os\n",
        "import shutil as sys\n",
        "import glob\n",
        "import sys\n",
        "import csv\n",
        "\n",
        "#Python packages for audio files\n",
        "import wave\n",
        "import librosa   #for audio processing\n",
        "import numpy as np\n",
        "from scipy.io import wavfile #for audio processing\n",
        "import pandas as pd\n",
        "import sklearn"
      ],
      "execution_count": 0,
      "outputs": []
    },
    {
      "cell_type": "markdown",
      "metadata": {
        "id": "q0IcV4nHZa1i",
        "colab_type": "text"
      },
      "source": [
        "Get acces to Google Drive, where the Warden Data is located"
      ]
    },
    {
      "cell_type": "code",
      "metadata": {
        "id": "U18QPgOXZjlo",
        "colab_type": "code",
        "outputId": "20a1c29a-9acc-47b0-ccdf-7d9455ed119d",
        "colab": {
          "base_uri": "https://localhost:8080/",
          "height": 129
        }
      },
      "source": [
        "from google.colab import drive\n",
        "drive.mount('/content/drive')"
      ],
      "execution_count": 0,
      "outputs": [
        {
          "output_type": "stream",
          "text": [
            "Go to this URL in a browser: https://accounts.google.com/o/oauth2/auth?client_id=947318989803-6bn6qk8qdgf4n4g3pfee6491hc0brc4i.apps.googleusercontent.com&redirect_uri=urn%3aietf%3awg%3aoauth%3a2.0%3aoob&response_type=code&scope=email%20https%3a%2f%2fwww.googleapis.com%2fauth%2fdocs.test%20https%3a%2f%2fwww.googleapis.com%2fauth%2fdrive%20https%3a%2f%2fwww.googleapis.com%2fauth%2fdrive.photos.readonly%20https%3a%2f%2fwww.googleapis.com%2fauth%2fpeopleapi.readonly\n",
            "\n",
            "Enter your authorization code:\n",
            "··········\n",
            "Mounted at /content/drive\n"
          ],
          "name": "stdout"
        }
      ]
    },
    {
      "cell_type": "markdown",
      "metadata": {
        "id": "lCp-zo3cZSBk",
        "colab_type": "text"
      },
      "source": [
        "# Prepare the Warden Data\n"
      ]
    },
    {
      "cell_type": "markdown",
      "metadata": {
        "id": "Ume7DGfTZmUc",
        "colab_type": "text"
      },
      "source": [
        "Unzip the Warden Data"
      ]
    },
    {
      "cell_type": "code",
      "metadata": {
        "id": "Qwy02CVWZmip",
        "colab_type": "code",
        "colab": {}
      },
      "source": [
        "!unzip -uq '/content/drive/My Drive/speech_commands_v0.02.zip'"
      ],
      "execution_count": 0,
      "outputs": []
    },
    {
      "cell_type": "markdown",
      "metadata": {
        "id": "RUw0xPhGeg5E",
        "colab_type": "text"
      },
      "source": [
        "Delete the folder:"
      ]
    },
    {
      "cell_type": "code",
      "metadata": {
        "id": "f17Uhsc4eeOH",
        "colab_type": "code",
        "colab": {}
      },
      "source": [
        "!rm -rf __MACOSX/"
      ],
      "execution_count": 0,
      "outputs": []
    },
    {
      "cell_type": "markdown",
      "metadata": {
        "id": "Vm-QnZ5QZrDM",
        "colab_type": "text"
      },
      "source": [
        "Create a list with all the labels"
      ]
    },
    {
      "cell_type": "code",
      "metadata": {
        "id": "BgIIeXAdZrWO",
        "colab_type": "code",
        "outputId": "0416b48b-ee1f-4d5e-c298-0a29f427905c",
        "colab": {
          "base_uri": "https://localhost:8080/",
          "height": 71
        }
      },
      "source": [
        "label_list = os.listdir('/content/speech_commands_v0.02')\n",
        "print(\"Original:\", label_list)\n",
        "label_list.remove('_background_noise_')\n",
        "label_list.remove('.DS_Store')\n",
        "label_list.remove('README.md')\n",
        "label_list.remove('testing_list.txt')\n",
        "label_list.remove('validation_list.txt')\n",
        "label_list.remove('LICENSE')\n",
        "print(\"Removed:\",label_list)"
      ],
      "execution_count": 0,
      "outputs": [
        {
          "output_type": "stream",
          "text": [
            "Original: ['bed', 'on', 'seven', 'two', 'eight', 'sheila', 'off', 'validation_list.txt', 'README.md', 'wow', 'tree', 'down', 'visual', 'marvin', 'forward', 'zero', 'yes', 'no', '_background_noise_', 'cat', 'six', 'happy', 'up', '.DS_Store', 'learn', 'go', 'bird', 'testing_list.txt', 'dog', 'three', 'right', 'house', 'four', 'one', 'follow', 'stop', 'backward', 'left', 'nine', 'LICENSE', 'five']\n",
            "Removed: ['bed', 'on', 'seven', 'two', 'eight', 'sheila', 'off', 'wow', 'tree', 'down', 'visual', 'marvin', 'forward', 'zero', 'yes', 'no', 'cat', 'six', 'happy', 'up', 'learn', 'go', 'bird', 'dog', 'three', 'right', 'house', 'four', 'one', 'follow', 'stop', 'backward', 'left', 'nine', 'five']\n"
          ],
          "name": "stdout"
        }
      ]
    },
    {
      "cell_type": "markdown",
      "metadata": {
        "id": "0Gz3h8EGaSkG",
        "colab_type": "text"
      },
      "source": [
        "Load the validation and testing_list (txt format)"
      ]
    },
    {
      "cell_type": "code",
      "metadata": {
        "id": "L1oy1EHCaW8h",
        "colab_type": "code",
        "outputId": "ac0de7fa-6307-49b7-ad3e-d31b640dbf5c",
        "colab": {
          "base_uri": "https://localhost:8080/",
          "height": 119
        }
      },
      "source": [
        "validation_list = np.loadtxt('/content/speech_commands_v0.02/validation_list.txt', dtype= str)\n",
        "testing_list = np.loadtxt('/content/speech_commands_v0.02/testing_list.txt', dtype= str)\n",
        "print(validation_list)\n",
        "print(testing_list)"
      ],
      "execution_count": 0,
      "outputs": [
        {
          "output_type": "stream",
          "text": [
            "['right/a69b9b3e_nohash_0.wav' 'right/439c84f4_nohash_1.wav'\n",
            " 'right/409c962a_nohash_1.wav' ... 'four/d3831f6a_nohash_1.wav'\n",
            " 'four/3c4aa5ef_nohash_3.wav' 'four/c6389ab0_nohash_0.wav']\n",
            "['right/bb05582b_nohash_3.wav' 'right/97f4c236_nohash_2.wav'\n",
            " 'right/f2e59fea_nohash_3.wav' ... 'four/c9e251d2_nohash_1.wav'\n",
            " 'four/0c40e715_nohash_0.wav' 'four/8769c34c_nohash_3.wav']\n"
          ],
          "name": "stdout"
        }
      ]
    },
    {
      "cell_type": "markdown",
      "metadata": {
        "id": "CMAO8nxoZ0Tp",
        "colab_type": "text"
      },
      "source": [
        "Convert the wav files into mfcc Data"
      ]
    },
    {
      "cell_type": "code",
      "metadata": {
        "id": "65jlZ8PgZ9UY",
        "colab_type": "code",
        "outputId": "99cf0b0e-75aa-4a79-fc0e-942a7c7e2c06",
        "colab": {
          "base_uri": "https://localhost:8080/",
          "height": 893
        }
      },
      "source": [
        "from sklearn.preprocessing import LabelEncoder\n",
        "le = LabelEncoder()\n",
        "\n",
        "data_path = '/content/speech_commands_v0.02'\n",
        "length = 0\n",
        "\n",
        "#Create 4 empty lists\n",
        "#Training Data\n",
        "x_Warden_train = []\n",
        "y_Warden_train = []\n",
        "#Validation Data\n",
        "x_Warden_val = []\n",
        "y_Warden_val = []\n",
        "#Test Data\n",
        "x_Warden_test = []\n",
        "y_Warden_test = []\n",
        "\n",
        "\n",
        "for label in label_list:\n",
        "      print(\"Label: \", label)\n",
        "      waves = [f for f in os.listdir(data_path + '/'+ label) if f.endswith('.wav')]\n",
        "      #Get the number of all files\n",
        "      length += len(waves)\n",
        "\n",
        "      for wav in waves:\n",
        "          #Get sample rate\n",
        "          with wave.open(data_path + '/' + label + '/' + wav, \"rb\") as wave_file:\n",
        "              frame_rate = wave_file.getframerate()\n",
        "\n",
        "          #Extract samples from the wav file\n",
        "          samples, sample_rate = librosa.load(data_path + '/' + label + '/' + wav, sr = frame_rate)\n",
        "          #Resample the samples into 8000 Hz\n",
        "          samples = librosa.resample(samples, len(samples), 8000)\n",
        "\n",
        "          #Convert the samples into mfcc data\n",
        "          mfcc = librosa.feature.mfcc(samples.astype(float),sr=len(samples))\n",
        "          #Normalize it\n",
        "          mfcc = sklearn.preprocessing.normalize(mfcc)\n",
        "\n",
        "          if(mfcc.shape== (20,16)):\n",
        "          \n",
        "              length =+ 1\n",
        "              #Differntiate the data in test, validation and train data \n",
        "              if label + '/' + wav in testing_list:\n",
        "                  x_Warden_test.append(mfcc)\n",
        "                  y_Warden_test.append(label)\n",
        "              if label + '/' + wav in validation_list:\n",
        "                  x_Warden_val.append(mfcc)\n",
        "                  y_Warden_val.append(label)\n",
        "              else:\n",
        "                  x_Warden_train.append(mfcc)\n",
        "                  y_Warden_train.append(label)\n",
        "          else:\n",
        "              print(\"Wrong Shape:\", mfcc.shape,\" File:\", label + \"/\" + wav)\n",
        "\n",
        "#Convert Output Labels to int encoded labels\n",
        "y_Warden_train = le.fit_transform(y_Warden_train)\n",
        "y_Warden_val = le.fit_transform(y_Warden_val)\n",
        "y_Warden_test = le.fit_transform(y_Warden_test)\n",
        "\n",
        "#Note: variables must be int!\n",
        "from keras.utils import np_utils\n",
        "\n",
        "y_Warden_train = np_utils.to_categorical(y_Warden_train, num_classes=len(label_list))\n",
        "y_Warden_val = np_utils.to_categorical(y_Warden_val, num_classes=len(label_list))\n",
        "y_Warden_test = np_utils.to_categorical(y_Warden_test, num_classes=len(label_list))\n",
        "\n",
        "\n",
        "#Safe the label_list\n",
        "my_df = pd.DataFrame(label_list)\n",
        "my_df.to_csv('/content/drive/My Drive/Warden_data/label_list.csv', index=False, header=False)\n",
        "\n",
        "#Safe the arrays as npy files\n",
        "np.save('/content/drive/My Drive/Warden_data/x_Warden_train.npy', x_Warden_train, allow_pickle=True, fix_imports=True)\n",
        "np.save('/content/drive/My Drive/Warden_data/y_Warden_train.npy', y_Warden_train, allow_pickle=True, fix_imports=True)\n",
        "\n",
        "np.save('/content/drive/My Drive/Warden_data/x_Warden_val.npy', x_Warden_val, allow_pickle=True, fix_imports=True)\n",
        "np.save('/content/drive/My Drive/Warden_data/y_Warden_val.npy', y_Warden_val, allow_pickle=True, fix_imports=True)\n",
        "\n",
        "np.save('/content/drive/My Drive/Warden_data/x_Warden_test.npy', x_Warden_test, allow_pickle=True, fix_imports=True)\n",
        "np.save('/content/drive/My Drive/Warden_data/y_Warden_test.npy', y_Warden_test, allow_pickle=True, fix_imports=True)\n",
        "\n",
        "#Safe the arrays as npy files\n",
        "np.save('/content/drive/My Drive/Warden_data/1x_Warden_train.npy', x_Warden_train, allow_pickle=True, fix_imports=False)\n",
        "np.save('/content/drive/My Drive/Warden_data/1y_Warden_train.npy', y_Warden_train, allow_pickle=True, fix_imports=False)\n",
        "\n",
        "np.save('/content/drive/My Drive/Warden_data/1x_Warden_val.npy', x_Warden_val, allow_pickle=True, fix_imports=False)\n",
        "np.save('/content/drive/My Drive/Warden_data/1y_Warden_val.npy', y_Warden_val, allow_pickle=True, fix_imports=False)\n",
        "\n",
        "np.save('/content/drive/My Drive/Warden_data/1x_Warden_test.npy', x_Warden_test, allow_pickle=True, fix_imports=False)\n",
        "np.save('/content/drive/My Drive/Warden_data/1y_Warden_test.npy', y_Warden_test, allow_pickle=True, fix_imports=False)\n",
        "\n",
        "#Safe the arrays as npy files\n",
        "np.save('/content/drive/My Drive/Warden_data/2x_Warden_train.npy', x_Warden_train, allow_pickle=False, fix_imports=True)\n",
        "np.save('/content/drive/My Drive/Warden_data/2y_Warden_train.npy', y_Warden_train, allow_pickle=False, fix_imports=True)\n",
        "\n",
        "np.save('/content/drive/My Drive/Warden_data/2x_Warden_val.npy', x_Warden_val, allow_pickle=False, fix_imports=True)\n",
        "np.save('/content/drive/My Drive/Warden_data/2y_Warden_val.npy', y_Warden_val, allow_pickle=False, fix_imports=True)\n",
        "\n",
        "np.save('/content/drive/My Drive/Warden_data/2x_Warden_test.npy', x_Warden_test, allow_pickle=False, fix_imports=True)\n",
        "np.save('/content/drive/My Drive/Warden_data/2y_Warden_test.npy', y_Warden_test, allow_pickle=False, fix_imports=True)\n",
        "\n",
        "#Safe the arrays as npy files\n",
        "np.save('/content/drive/My Drive/Warden_data/3x_Warden_train.npy', x_Warden_train, allow_pickle=False, fix_imports=False)\n",
        "np.save('/content/drive/My Drive/Warden_data/2y_Warden_train.npy', y_Warden_train, allow_pickle=False, fix_imports=False)\n",
        "\n",
        "np.save('/content/drive/My Drive/Warden_data/3x_Warden_val.npy', x_Warden_val, allow_pickle=False, fix_imports=False)\n",
        "np.save('/content/drive/My Drive/Warden_data/3y_Warden_val.npy', y_Warden_val, allow_pickle=False, fix_imports=False)\n",
        "\n",
        "numpy.save('/content/drive/My Drive/Warden_data/3x_Warden_test.npy', x_Warden_test, allow_pickle=False, fix_imports=False)\n",
        "np.save('/content/drive/My Drive/Warden_data/3y_Warden_test.npy', y_Warden_test, allow_pickle=False, fix_imports=False)\n"
      ],
      "execution_count": 0,
      "outputs": [
        {
          "output_type": "stream",
          "text": [
            "Label:  bed\n",
            "Label:  on\n",
            "Label:  seven\n",
            "Label:  two\n",
            "Label:  eight\n",
            "Label:  sheila\n",
            "Label:  off\n",
            "Label:  wow\n",
            "Label:  tree\n",
            "Label:  down\n",
            "Label:  visual\n",
            "Label:  marvin\n",
            "Label:  forward\n",
            "Label:  zero\n",
            "Label:  yes\n",
            "Label:  no\n",
            "Label:  cat\n",
            "Label:  six\n",
            "Label:  happy\n",
            "Label:  up\n",
            "Label:  learn\n",
            "Label:  go\n",
            "Label:  bird\n",
            "Label:  dog\n",
            "Label:  three\n",
            "Label:  right\n",
            "Label:  house\n",
            "Label:  four\n",
            "Label:  one\n",
            "Label:  follow\n",
            "Label:  stop\n",
            "Label:  backward\n",
            "Label:  left\n",
            "Label:  nine\n",
            "Label:  five\n"
          ],
          "name": "stdout"
        },
        {
          "output_type": "stream",
          "text": [
            "Using TensorFlow backend.\n"
          ],
          "name": "stderr"
        },
        {
          "output_type": "display_data",
          "data": {
            "text/html": [
              "<p style=\"color: red;\">\n",
              "The default version of TensorFlow in Colab will soon switch to TensorFlow 2.x.<br>\n",
              "We recommend you <a href=\"https://www.tensorflow.org/guide/migrate\" target=\"_blank\">upgrade</a> now \n",
              "or ensure your notebook will continue to use TensorFlow 1.x via the <code>%tensorflow_version 1.x</code> magic:\n",
              "<a href=\"https://colab.research.google.com/notebooks/tensorflow_version.ipynb\" target=\"_blank\">more info</a>.</p>\n"
            ],
            "text/plain": [
              "<IPython.core.display.HTML object>"
            ]
          },
          "metadata": {
            "tags": []
          }
        },
        {
          "output_type": "error",
          "ename": "NameError",
          "evalue": "ignored",
          "traceback": [
            "\u001b[0;31m---------------------------------------------------------------------------\u001b[0m",
            "\u001b[0;31mNameError\u001b[0m                                 Traceback (most recent call last)",
            "\u001b[0;32m<ipython-input-10-c5b783a3cc8d>\u001b[0m in \u001b[0;36m<module>\u001b[0;34m()\u001b[0m\n\u001b[1;32m    108\u001b[0m \u001b[0mnp\u001b[0m\u001b[0;34m.\u001b[0m\u001b[0msave\u001b[0m\u001b[0;34m(\u001b[0m\u001b[0;34m'/content/drive/My Drive/Warden_data/3y_Warden_val.npy'\u001b[0m\u001b[0;34m,\u001b[0m \u001b[0my_Warden_val\u001b[0m\u001b[0;34m,\u001b[0m \u001b[0mallow_pickle\u001b[0m\u001b[0;34m=\u001b[0m\u001b[0;32mFalse\u001b[0m\u001b[0;34m,\u001b[0m \u001b[0mfix_imports\u001b[0m\u001b[0;34m=\u001b[0m\u001b[0;32mFalse\u001b[0m\u001b[0;34m)\u001b[0m\u001b[0;34m\u001b[0m\u001b[0;34m\u001b[0m\u001b[0m\n\u001b[1;32m    109\u001b[0m \u001b[0;34m\u001b[0m\u001b[0m\n\u001b[0;32m--> 110\u001b[0;31m \u001b[0mnumpy\u001b[0m\u001b[0;34m.\u001b[0m\u001b[0msave\u001b[0m\u001b[0;34m(\u001b[0m\u001b[0;34m'/content/drive/My Drive/Warden_data/3x_Warden_test.npy'\u001b[0m\u001b[0;34m,\u001b[0m \u001b[0mx_Warden_test\u001b[0m\u001b[0;34m,\u001b[0m \u001b[0mallow_pickle\u001b[0m\u001b[0;34m=\u001b[0m\u001b[0;32mFalse\u001b[0m\u001b[0;34m,\u001b[0m \u001b[0mfix_imports\u001b[0m\u001b[0;34m=\u001b[0m\u001b[0;32mFalse\u001b[0m\u001b[0;34m)\u001b[0m\u001b[0;34m\u001b[0m\u001b[0;34m\u001b[0m\u001b[0m\n\u001b[0m\u001b[1;32m    111\u001b[0m \u001b[0mnp\u001b[0m\u001b[0;34m.\u001b[0m\u001b[0msave\u001b[0m\u001b[0;34m(\u001b[0m\u001b[0;34m'/content/drive/My Drive/Warden_data/3y_Warden_test.npy'\u001b[0m\u001b[0;34m,\u001b[0m \u001b[0my_Warden_test\u001b[0m\u001b[0;34m,\u001b[0m \u001b[0mallow_pickle\u001b[0m\u001b[0;34m=\u001b[0m\u001b[0;32mFalse\u001b[0m\u001b[0;34m,\u001b[0m \u001b[0mfix_imports\u001b[0m\u001b[0;34m=\u001b[0m\u001b[0;32mFalse\u001b[0m\u001b[0;34m)\u001b[0m\u001b[0;34m\u001b[0m\u001b[0;34m\u001b[0m\u001b[0m\n",
            "\u001b[0;31mNameError\u001b[0m: name 'numpy' is not defined"
          ]
        }
      ]
    },
    {
      "cell_type": "markdown",
      "metadata": {
        "id": "d8rtLw_OFGIc",
        "colab_type": "text"
      },
      "source": [
        "Safe the data as npy files"
      ]
    },
    {
      "cell_type": "markdown",
      "metadata": {
        "id": "ao8h1eK5lxK6",
        "colab_type": "text"
      },
      "source": [
        "# Build a Model\n"
      ]
    },
    {
      "cell_type": "markdown",
      "metadata": {
        "id": "KZq02UKzG9ZC",
        "colab_type": "text"
      },
      "source": [
        "## Load the as npy files safed data"
      ]
    },
    {
      "cell_type": "code",
      "metadata": {
        "id": "i3G3j0Ld5yoW",
        "colab_type": "code",
        "outputId": "ba37a2b4-f624-490f-9e43-885952629c23",
        "colab": {
          "base_uri": "https://localhost:8080/",
          "height": 127
        }
      },
      "source": [
        "#Train\n",
        "x_Warden_train= np.load('/content/drive/My Drive/Warden_data/x_Warden_train.npy', allow_pickle=True, fix_imports=True)\n",
        "y_Warden_train = np.load('/content/drive/My Drive/Warden_data/y_Warden_train.npy', allow_pickle=True, fix_imports=True)\n",
        "#Validation Data\n",
        "x_Warden_val = np.load('/content/drive/My Drive/Warden_data/x_Warden_val.npy', allow_pickle=True, fix_imports=True)\n",
        "y_Warden_val = np.load('/content/drive/My Drive/Warden_data/y_Warden_val.npy', allow_pickle=True, fix_imports=True)\n",
        "#Test Data\n",
        "x_Warden_test = np.load('/content/drive/My Drive/Warden_data/x_Warden_test.npy', allow_pickle=True, fix_imports=True)\n",
        "y_Warden_test = np.load('/content/drive/My Drive/Warden_data/y_Warden_test.npy', allow_pickle=True, fix_imports=True)\n",
        "\n",
        "#Load the label_list\n",
        "with open('/content/drive/My Drive/Warden_data/label_list.csv', 'r') as f:\n",
        "    reader = csv.reader(f)\n",
        "    label_list = list(reader)\n",
        "\n",
        "print(x_Warden_train.shape)\n",
        "print(x_Warden_val.shape)\n",
        "print(x_Warden_test.shape)\n",
        "print(x_Warden_train[1].shape)\n",
        "print(y_Warden_train[1])"
      ],
      "execution_count": 0,
      "outputs": [
        {
          "output_type": "stream",
          "text": [
            "(95848, 20, 16)\n",
            "(9981, 20, 16)\n",
            "(11005, 20, 16)\n",
            "(20, 16)\n",
            "[0. 1. 0. 0. 0. 0. 0. 0. 0. 0. 0. 0. 0. 0. 0. 0. 0. 0. 0. 0. 0. 0. 0. 0.\n",
            " 0. 0. 0. 0. 0. 0. 0. 0. 0. 0. 0.]\n"
          ],
          "name": "stdout"
        }
      ]
    },
    {
      "cell_type": "markdown",
      "metadata": {
        "id": "BlCSSfyBGdCO",
        "colab_type": "text"
      },
      "source": [
        "Shuffle the data"
      ]
    },
    {
      "cell_type": "code",
      "metadata": {
        "id": "KWaoRTSjGlTk",
        "colab_type": "code",
        "colab": {}
      },
      "source": [
        "from sklearn.utils import shuffle\n",
        "x_Warden_train, y_Warden_train = shuffle(x_Warden_train, y_Warden_train, random_state=0)\n",
        "x_Warden_val, y_Warden_val = shuffle(x_Warden_val, y_Warden_val, random_state=0)\n",
        "x_Warden_test,y_Warden_test = shuffle(x_Warden_test, y_Warden_test, random_state=0)"
      ],
      "execution_count": 0,
      "outputs": []
    },
    {
      "cell_type": "markdown",
      "metadata": {
        "id": "YtMbmVVnG_RJ",
        "colab_type": "text"
      },
      "source": [
        "## Create the RNN"
      ]
    },
    {
      "cell_type": "markdown",
      "metadata": {
        "id": "rmPhrhKeNDPf",
        "colab_type": "text"
      },
      "source": [
        "Choose the batch_size"
      ]
    },
    {
      "cell_type": "code",
      "metadata": {
        "id": "aJdxfVpxNGVK",
        "colab_type": "code",
        "colab": {}
      },
      "source": [
        "basis = 95848\n",
        "\n",
        "for i in range (1,basis):\n",
        "    batch_size = basis/i\n",
        "    if batch_size.is_integer():\n",
        "        print(\"Model must  work through samples \",batch_size,\" before updating the parameters with batch_size\")"
      ],
      "execution_count": 0,
      "outputs": []
    },
    {
      "cell_type": "markdown",
      "metadata": {
        "id": "AUvJlluE0F-U",
        "colab_type": "text"
      },
      "source": [
        "Import packages"
      ]
    },
    {
      "cell_type": "code",
      "metadata": {
        "id": "SjMXm1oKHCQy",
        "colab_type": "code",
        "colab": {}
      },
      "source": [
        "import tensorflow as tf\n",
        "from tensorflow.keras.models import Sequential\n",
        "from tensorflow.keras.layers import Dense, Dropout, GRU\n",
        "from keras import regularizers\n",
        "import keras"
      ],
      "execution_count": 0,
      "outputs": []
    },
    {
      "cell_type": "markdown",
      "metadata": {
        "id": "EEGAqXXe0H-q",
        "colab_type": "text"
      },
      "source": [
        "Define model, use Keras callback and compile model"
      ]
    },
    {
      "cell_type": "code",
      "metadata": {
        "id": "9yvRFC_hHQ56",
        "colab_type": "code",
        "outputId": "edbd6329-7747-43db-f21a-4ee862aa2f21",
        "colab": {
          "base_uri": "https://localhost:8080/",
          "height": 568
        }
      },
      "source": [
        "model = Sequential()\n",
        "\n",
        "model.add(GRU(1024, input_shape = (20,16),activation='relu', return_sequences= True))\n",
        "model.add(Dropout(0.1))\n",
        "\n",
        "\n",
        "model.add(GRU(512,activation='relu', return_sequences= True))\n",
        "model.add(Dropout(0.1))\n",
        "\n",
        "model.add(GRU(256, activation='relu', return_sequences= True))\n",
        "model.add(Dropout(0.1))\n",
        "\n",
        "model.add(GRU(128, activation='relu', return_sequences= True))\n",
        "model.add(Dropout(0.1))\n",
        "\n",
        "model.add(GRU(64, activation='relu',return_sequences= False))\n",
        "model.add(Dropout(0.1))\n",
        "\n",
        "model.add(Dense(35, activation='softmax'))\n",
        "model.summary()\n",
        "\n",
        "model.compile(optimizer='Adam',\n",
        "              loss='categorical_crossentropy',\n",
        "              metrics=['accuracy'])\n",
        "\n",
        "callbacks_list = [\n",
        "                    keras.callbacks.EarlyStopping(\n",
        "                        monitor='val_loss',\n",
        "                        patience=1,\n",
        "                        mode='min', \n",
        "                        verbose=1,\n",
        "                    )\n",
        "        ]\n",
        "\n",
        "\n"
      ],
      "execution_count": 0,
      "outputs": [
        {
          "output_type": "stream",
          "text": [
            "Model: \"sequential_2\"\n",
            "_________________________________________________________________\n",
            "Layer (type)                 Output Shape              Param #   \n",
            "=================================================================\n",
            "gru_10 (GRU)                 (None, 20, 368)           425040    \n",
            "_________________________________________________________________\n",
            "dropout_10 (Dropout)         (None, 20, 368)           0         \n",
            "_________________________________________________________________\n",
            "gru_11 (GRU)                 (None, 20, 298)           596298    \n",
            "_________________________________________________________________\n",
            "dropout_11 (Dropout)         (None, 20, 298)           0         \n",
            "_________________________________________________________________\n",
            "gru_12 (GRU)                 (None, 20, 228)           360468    \n",
            "_________________________________________________________________\n",
            "dropout_12 (Dropout)         (None, 20, 228)           0         \n",
            "_________________________________________________________________\n",
            "gru_13 (GRU)                 (None, 20, 158)           183438    \n",
            "_________________________________________________________________\n",
            "dropout_13 (Dropout)         (None, 20, 158)           0         \n",
            "_________________________________________________________________\n",
            "gru_14 (GRU)                 (None, 18)                9558      \n",
            "_________________________________________________________________\n",
            "dropout_14 (Dropout)         (None, 18)                0         \n",
            "_________________________________________________________________\n",
            "dense_2 (Dense)              (None, 35)                665       \n",
            "=================================================================\n",
            "Total params: 1,575,467\n",
            "Trainable params: 1,575,467\n",
            "Non-trainable params: 0\n",
            "_________________________________________________________________\n"
          ],
          "name": "stdout"
        }
      ]
    },
    {
      "cell_type": "markdown",
      "metadata": {
        "id": "1scUBvgS0Peo",
        "colab_type": "text"
      },
      "source": [
        "Train the model"
      ]
    },
    {
      "cell_type": "code",
      "metadata": {
        "id": "fFRAYzGzH6Nr",
        "colab_type": "code",
        "outputId": "7e44e2d0-b654-4999-aef7-8e14ff60bcf5",
        "colab": {
          "base_uri": "https://localhost:8080/",
          "height": 784
        }
      },
      "source": [
        "history = model.fit(x_Warden_train,\n",
        "                    y_Warden_train,\n",
        "                    batch_size = 600,\n",
        "                    epochs=15,\n",
        "                    validation_data = (x_Warden_val, y_Warden_val),\n",
        "                    callbacks = callbacks_list)"
      ],
      "execution_count": 0,
      "outputs": [
        {
          "output_type": "stream",
          "text": [
            "Train on 95848 samples, validate on 9981 samples\n",
            "Epoch 1/15\n",
            "95848/95848 [==============================] - 475s 5ms/sample - loss: 3.5095 - acc: 0.0399 - val_loss: 3.4688 - val_acc: 0.0622\n",
            "Epoch 2/15\n",
            "95848/95848 [==============================] - 473s 5ms/sample - loss: 3.3236 - acc: 0.0821 - val_loss: 3.1319 - val_acc: 0.1224\n",
            "Epoch 3/15\n",
            "95848/95848 [==============================] - 472s 5ms/sample - loss: 3.0189 - acc: 0.1485 - val_loss: 2.7086 - val_acc: 0.2241\n",
            "Epoch 4/15\n",
            "95848/95848 [==============================] - 472s 5ms/sample - loss: 2.6206 - acc: 0.2340 - val_loss: 2.3010 - val_acc: 0.3220\n",
            "Epoch 5/15\n",
            "95848/95848 [==============================] - 472s 5ms/sample - loss: 2.2257 - acc: 0.3377 - val_loss: 1.8676 - val_acc: 0.4379\n",
            "Epoch 6/15\n",
            "95848/95848 [==============================] - 472s 5ms/sample - loss: 1.9542 - acc: 0.4142 - val_loss: 1.6891 - val_acc: 0.4887\n",
            "Epoch 7/15\n",
            "95848/95848 [==============================] - 474s 5ms/sample - loss: 1.7636 - acc: 0.4696 - val_loss: 1.5399 - val_acc: 0.5412\n",
            "Epoch 8/15\n",
            "95848/95848 [==============================] - 474s 5ms/sample - loss: 1.6368 - acc: 0.5069 - val_loss: 1.4622 - val_acc: 0.5598\n",
            "Epoch 9/15\n",
            "95848/95848 [==============================] - 474s 5ms/sample - loss: 1.5309 - acc: 0.5417 - val_loss: 1.3380 - val_acc: 0.6002\n",
            "Epoch 10/15\n",
            "95848/95848 [==============================] - 471s 5ms/sample - loss: 1.4462 - acc: 0.5688 - val_loss: 1.2907 - val_acc: 0.6175\n",
            "Epoch 11/15\n",
            "78000/95848 [=======================>......] - ETA: 1:25 - loss: 1.3757 - acc: 0.5902"
          ],
          "name": "stdout"
        },
        {
          "output_type": "error",
          "ename": "KeyboardInterrupt",
          "evalue": "ignored",
          "traceback": [
            "\u001b[0;31m---------------------------------------------------------------------------\u001b[0m",
            "\u001b[0;31mKeyboardInterrupt\u001b[0m                         Traceback (most recent call last)",
            "\u001b[0;32m<ipython-input-13-fc0604497de6>\u001b[0m in \u001b[0;36m<module>\u001b[0;34m()\u001b[0m\n\u001b[1;32m      4\u001b[0m                     \u001b[0mepochs\u001b[0m\u001b[0;34m=\u001b[0m\u001b[0;36m15\u001b[0m\u001b[0;34m,\u001b[0m\u001b[0;34m\u001b[0m\u001b[0;34m\u001b[0m\u001b[0m\n\u001b[1;32m      5\u001b[0m                     \u001b[0mvalidation_data\u001b[0m \u001b[0;34m=\u001b[0m \u001b[0;34m(\u001b[0m\u001b[0mx_Warden_val\u001b[0m\u001b[0;34m,\u001b[0m \u001b[0my_Warden_val\u001b[0m\u001b[0;34m)\u001b[0m\u001b[0;34m,\u001b[0m\u001b[0;34m\u001b[0m\u001b[0;34m\u001b[0m\u001b[0m\n\u001b[0;32m----> 6\u001b[0;31m                     callbacks = callbacks_list)\n\u001b[0m",
            "\u001b[0;32m/usr/local/lib/python3.6/dist-packages/tensorflow_core/python/keras/engine/training.py\u001b[0m in \u001b[0;36mfit\u001b[0;34m(self, x, y, batch_size, epochs, verbose, callbacks, validation_split, validation_data, shuffle, class_weight, sample_weight, initial_epoch, steps_per_epoch, validation_steps, validation_freq, max_queue_size, workers, use_multiprocessing, **kwargs)\u001b[0m\n\u001b[1;32m    725\u001b[0m         \u001b[0mmax_queue_size\u001b[0m\u001b[0;34m=\u001b[0m\u001b[0mmax_queue_size\u001b[0m\u001b[0;34m,\u001b[0m\u001b[0;34m\u001b[0m\u001b[0;34m\u001b[0m\u001b[0m\n\u001b[1;32m    726\u001b[0m         \u001b[0mworkers\u001b[0m\u001b[0;34m=\u001b[0m\u001b[0mworkers\u001b[0m\u001b[0;34m,\u001b[0m\u001b[0;34m\u001b[0m\u001b[0;34m\u001b[0m\u001b[0m\n\u001b[0;32m--> 727\u001b[0;31m         use_multiprocessing=use_multiprocessing)\n\u001b[0m\u001b[1;32m    728\u001b[0m \u001b[0;34m\u001b[0m\u001b[0m\n\u001b[1;32m    729\u001b[0m   def evaluate(self,\n",
            "\u001b[0;32m/usr/local/lib/python3.6/dist-packages/tensorflow_core/python/keras/engine/training_arrays.py\u001b[0m in \u001b[0;36mfit\u001b[0;34m(self, model, x, y, batch_size, epochs, verbose, callbacks, validation_split, validation_data, shuffle, class_weight, sample_weight, initial_epoch, steps_per_epoch, validation_steps, validation_freq, **kwargs)\u001b[0m\n\u001b[1;32m    673\u001b[0m         \u001b[0mvalidation_steps\u001b[0m\u001b[0;34m=\u001b[0m\u001b[0mvalidation_steps\u001b[0m\u001b[0;34m,\u001b[0m\u001b[0;34m\u001b[0m\u001b[0;34m\u001b[0m\u001b[0m\n\u001b[1;32m    674\u001b[0m         \u001b[0mvalidation_freq\u001b[0m\u001b[0;34m=\u001b[0m\u001b[0mvalidation_freq\u001b[0m\u001b[0;34m,\u001b[0m\u001b[0;34m\u001b[0m\u001b[0;34m\u001b[0m\u001b[0m\n\u001b[0;32m--> 675\u001b[0;31m         steps_name='steps_per_epoch')\n\u001b[0m\u001b[1;32m    676\u001b[0m \u001b[0;34m\u001b[0m\u001b[0m\n\u001b[1;32m    677\u001b[0m   def evaluate(self,\n",
            "\u001b[0;32m/usr/local/lib/python3.6/dist-packages/tensorflow_core/python/keras/engine/training_arrays.py\u001b[0m in \u001b[0;36mmodel_iteration\u001b[0;34m(model, inputs, targets, sample_weights, batch_size, epochs, verbose, callbacks, val_inputs, val_targets, val_sample_weights, shuffle, initial_epoch, steps_per_epoch, validation_steps, validation_freq, mode, validation_in_fit, prepared_feed_values_from_dataset, steps_name, **kwargs)\u001b[0m\n\u001b[1;32m    392\u001b[0m \u001b[0;34m\u001b[0m\u001b[0m\n\u001b[1;32m    393\u001b[0m         \u001b[0;31m# Get outputs.\u001b[0m\u001b[0;34m\u001b[0m\u001b[0;34m\u001b[0m\u001b[0;34m\u001b[0m\u001b[0m\n\u001b[0;32m--> 394\u001b[0;31m         \u001b[0mbatch_outs\u001b[0m \u001b[0;34m=\u001b[0m \u001b[0mf\u001b[0m\u001b[0;34m(\u001b[0m\u001b[0mins_batch\u001b[0m\u001b[0;34m)\u001b[0m\u001b[0;34m\u001b[0m\u001b[0;34m\u001b[0m\u001b[0m\n\u001b[0m\u001b[1;32m    395\u001b[0m         \u001b[0;32mif\u001b[0m \u001b[0;32mnot\u001b[0m \u001b[0misinstance\u001b[0m\u001b[0;34m(\u001b[0m\u001b[0mbatch_outs\u001b[0m\u001b[0;34m,\u001b[0m \u001b[0mlist\u001b[0m\u001b[0;34m)\u001b[0m\u001b[0;34m:\u001b[0m\u001b[0;34m\u001b[0m\u001b[0;34m\u001b[0m\u001b[0m\n\u001b[1;32m    396\u001b[0m           \u001b[0mbatch_outs\u001b[0m \u001b[0;34m=\u001b[0m \u001b[0;34m[\u001b[0m\u001b[0mbatch_outs\u001b[0m\u001b[0;34m]\u001b[0m\u001b[0;34m\u001b[0m\u001b[0;34m\u001b[0m\u001b[0m\n",
            "\u001b[0;32m/usr/local/lib/python3.6/dist-packages/tensorflow_core/python/keras/backend.py\u001b[0m in \u001b[0;36m__call__\u001b[0;34m(self, inputs)\u001b[0m\n\u001b[1;32m   3474\u001b[0m \u001b[0;34m\u001b[0m\u001b[0m\n\u001b[1;32m   3475\u001b[0m     fetched = self._callable_fn(*array_vals,\n\u001b[0;32m-> 3476\u001b[0;31m                                 run_metadata=self.run_metadata)\n\u001b[0m\u001b[1;32m   3477\u001b[0m     \u001b[0mself\u001b[0m\u001b[0;34m.\u001b[0m\u001b[0m_call_fetch_callbacks\u001b[0m\u001b[0;34m(\u001b[0m\u001b[0mfetched\u001b[0m\u001b[0;34m[\u001b[0m\u001b[0;34m-\u001b[0m\u001b[0mlen\u001b[0m\u001b[0;34m(\u001b[0m\u001b[0mself\u001b[0m\u001b[0;34m.\u001b[0m\u001b[0m_fetches\u001b[0m\u001b[0;34m)\u001b[0m\u001b[0;34m:\u001b[0m\u001b[0;34m]\u001b[0m\u001b[0;34m)\u001b[0m\u001b[0;34m\u001b[0m\u001b[0;34m\u001b[0m\u001b[0m\n\u001b[1;32m   3478\u001b[0m     output_structure = nest.pack_sequence_as(\n",
            "\u001b[0;32m/usr/local/lib/python3.6/dist-packages/tensorflow_core/python/client/session.py\u001b[0m in \u001b[0;36m__call__\u001b[0;34m(self, *args, **kwargs)\u001b[0m\n\u001b[1;32m   1470\u001b[0m         ret = tf_session.TF_SessionRunCallable(self._session._session,\n\u001b[1;32m   1471\u001b[0m                                                \u001b[0mself\u001b[0m\u001b[0;34m.\u001b[0m\u001b[0m_handle\u001b[0m\u001b[0;34m,\u001b[0m \u001b[0margs\u001b[0m\u001b[0;34m,\u001b[0m\u001b[0;34m\u001b[0m\u001b[0;34m\u001b[0m\u001b[0m\n\u001b[0;32m-> 1472\u001b[0;31m                                                run_metadata_ptr)\n\u001b[0m\u001b[1;32m   1473\u001b[0m         \u001b[0;32mif\u001b[0m \u001b[0mrun_metadata\u001b[0m\u001b[0;34m:\u001b[0m\u001b[0;34m\u001b[0m\u001b[0;34m\u001b[0m\u001b[0m\n\u001b[1;32m   1474\u001b[0m           \u001b[0mproto_data\u001b[0m \u001b[0;34m=\u001b[0m \u001b[0mtf_session\u001b[0m\u001b[0;34m.\u001b[0m\u001b[0mTF_GetBuffer\u001b[0m\u001b[0;34m(\u001b[0m\u001b[0mrun_metadata_ptr\u001b[0m\u001b[0;34m)\u001b[0m\u001b[0;34m\u001b[0m\u001b[0;34m\u001b[0m\u001b[0m\n",
            "\u001b[0;31mKeyboardInterrupt\u001b[0m: "
          ]
        }
      ]
    },
    {
      "cell_type": "markdown",
      "metadata": {
        "id": "wrdUhGzuIFkj",
        "colab_type": "text"
      },
      "source": [
        "Plot the results"
      ]
    },
    {
      "cell_type": "code",
      "metadata": {
        "id": "iWTWypkWIHOa",
        "colab_type": "code",
        "colab": {}
      },
      "source": [
        "import matplotlib.pyplot as plt\n",
        "\n",
        "loss = history.history['loss']\n",
        "val_loss = history.history['val_loss']\n",
        "epochs = range(1,len(loss)+1)\n",
        "plt.plot(epochs, loss, 'bo', label = 'Training loss')\n",
        "plt.plot(epochs, val_loss, 'b', label = 'Validation loss')\n",
        "plt.title('Training and Validation loss')\n",
        "plt.xlabel('Epochs')\n",
        "plt.ylabel('Loss')\n",
        "plt.legend()\n",
        "plt.show"
      ],
      "execution_count": 0,
      "outputs": []
    },
    {
      "cell_type": "code",
      "metadata": {
        "id": "OjaWur_jIHY5",
        "colab_type": "code",
        "colab": {}
      },
      "source": [
        "#Clear the figure\n",
        "plt.clf\n",
        "\n",
        "acc = history.history['acc']\n",
        "val_acc = history.history['val_acc']\n",
        "plt.plot(epochs, acc, 'bo', label='Training acc')\n",
        "plt.plot(epochs, val_acc, 'b', label='Validation acc')\n",
        "plt.title('Training and validation accuracy')\n",
        "plt.xlabel('Epochs')\n",
        "plt.ylabel('Loss')\n",
        "plt.legend()\n",
        "plt.show"
      ],
      "execution_count": 0,
      "outputs": []
    },
    {
      "cell_type": "markdown",
      "metadata": {
        "id": "6j1w5yDJlzWx",
        "colab_type": "text"
      },
      "source": [
        "## Compare different models"
      ]
    },
    {
      "cell_type": "code",
      "metadata": {
        "id": "3KmphZTJl5TF",
        "colab_type": "code",
        "colab": {}
      },
      "source": [
        "#Create 4 empty lists to safe the results of different models\n",
        "RNN_history_loss = []\n",
        "RNN_history_val_loss = []\n",
        "RNN_history_acc = []\n",
        "RNN_history_val_acc = []"
      ],
      "execution_count": 0,
      "outputs": []
    },
    {
      "cell_type": "code",
      "metadata": {
        "id": "BKBgxSvMmAlg",
        "colab_type": "code",
        "colab": {}
      },
      "source": [
        "#Use the cell after every development of a model\n",
        "#Safe the loss in a dic\n",
        "RNN_history_loss.append(loss)\n",
        "RNN_history_val_loss.append(val_loss)\n",
        "#Safe the acc\n",
        "RNN_history_acc.append(acc)\n",
        "RNN_history_val_acc.append(val_acc)\n",
        "\n",
        "#Safe the arrays as npy files\n",
        "#np.save('/content/drive/My Drive/Warden_data/RNN_history_loss.npy', RNN_history_loss, allow_pickle=True, fix_imports=True)\n",
        "#np.save('/content/drive/My Drive/Warden_data/RNN_history_val_loss.npy', RNN_history_val_loss, allow_pickle=True, fix_imports=True)\n",
        "\n",
        "#np.save('/content/drive/My Drive/Warden_data/RNN_history_acc.npy', RNN_history_acc, allow_pickle=True, fix_imports=True)\n",
        "#np.save('/content/drive/My Drive/Warden_data/RNN_history_val_acc.npy', RNN_history_val_acc, allow_pickle=True, fix_imports=True)"
      ],
      "execution_count": 0,
      "outputs": []
    },
    {
      "cell_type": "code",
      "metadata": {
        "id": "ArCagktzRodT",
        "colab_type": "code",
        "colab": {}
      },
      "source": [
        "print(RNN_history_val_acc)"
      ],
      "execution_count": 0,
      "outputs": []
    },
    {
      "cell_type": "markdown",
      "metadata": {
        "id": "TcxeQkZ90VkS",
        "colab_type": "text"
      },
      "source": [
        "Plot the results of all models"
      ]
    },
    {
      "cell_type": "code",
      "metadata": {
        "id": "jdg7LZVDmFE8",
        "colab_type": "code",
        "outputId": "d82d48f1-ca0e-49ae-c306-d92558f7a73d",
        "colab": {
          "base_uri": "https://localhost:8080/",
          "height": 295
        }
      },
      "source": [
        "import matplotlib.pyplot as plt\n",
        "\n",
        "#Create an array with colors\n",
        "farbe = ['slategrey','mediumblue','red','green','darkorange','cyan','lime','olive','purple','gold']\n",
        "\n",
        "loss = RNN_history_loss[0]\n",
        "val_loss = RNN_history_val_loss[0]\n",
        "epochs = range(1, len(loss) + 1)\n",
        "plt.plot(epochs, loss, 'bo', label='Training loss', color = 'black')\n",
        "plt.plot(epochs, val_loss, 'b', label='Validation loss', color ='black')\n",
        "\n",
        "for i in range(1,len(RNN_history_loss)):\n",
        "\n",
        "    loss = RNN_history_loss[i]\n",
        "    val_loss = RNN_history_val_loss[i]\n",
        "    epochs = range(1, len(loss) + 1)\n",
        "    plt.plot(epochs, loss, 'bo', color = farbe[i])\n",
        "    plt.plot(epochs, val_loss, 'b', color = farbe [i])\n",
        "\n",
        "plt.title('Training and validation loss')\n",
        "plt.xlabel('Epochs')\n",
        "plt.ylabel('Loss')\n",
        "plt.legend()\n",
        "plt.rcParams['figure.figsize'] = (12,6)\n",
        "plt.show()"
      ],
      "execution_count": 0,
      "outputs": [
        {
          "output_type": "display_data",
          "data": {
            "image/png": "[encoded data removed]",
            "text/plain": [
              "<Figure size 432x288 with 1 Axes>"
            ]
          },
          "metadata": {
            "tags": []
          }
        }
      ]
    },
    {
      "cell_type": "code",
      "metadata": {
        "id": "Hj2qZf6kmHml",
        "colab_type": "code",
        "outputId": "f8f168fc-c7a3-4ca3-d513-8146f48a7147",
        "colab": {
          "base_uri": "https://localhost:8080/",
          "height": 404
        }
      },
      "source": [
        "import matplotlib.pyplot as plt\n",
        "\n",
        "#Create an array with colors\n",
        "farbe = ['slategrey','mediumblue','red','green','darkorange','cyan','lime','olive','purple','gold']\n",
        "\n",
        "loss = RNN_history_acc[0]\n",
        "val_loss = RNN_history_val_acc[0]\n",
        "epochs = range(1, len(loss) + 1)\n",
        "plt.plot(epochs, loss, 'bo', label='Training Acc', color = 'black')\n",
        "plt.plot(epochs, val_loss, 'b', label='Validation Acc', color ='black')\n",
        "\n",
        "for i in range(1,len(RNN_history_acc)):\n",
        "\n",
        "    acc = RNN_history_acc[i]\n",
        "    val_acc = RNN_history_val_acc[i]\n",
        "    epochs = range(1, len(acc) + 1)\n",
        "    plt.plot(epochs, acc, 'bo', color = farbe[i])\n",
        "    plt.plot(epochs, val_acc, 'b', color = farbe [i])\n",
        "\n",
        "plt.title('Training and validation Accuracy')\n",
        "plt.xlabel('Epochs')\n",
        "plt.ylabel('Accuracy')\n",
        "plt.legend()\n",
        "plt.rcParams['figure.figsize'] = (12,6)\n",
        "plt.show()"
      ],
      "execution_count": 0,
      "outputs": [
        {
          "output_type": "display_data",
          "data": {
            "image/png": "[encoded data removed]",
            "text/plain": [
              "<Figure size 864x432 with 1 Axes>"
            ]
          },
          "metadata": {
            "tags": []
          }
        }
      ]
    },
    {
      "cell_type": "markdown",
      "metadata": {
        "id": "wUXXkkJtI_1F",
        "colab_type": "text"
      },
      "source": [
        "## Safe the model\n"
      ]
    },
    {
      "cell_type": "code",
      "metadata": {
        "id": "71EtwGOFKj4S",
        "colab_type": "code",
        "colab": {}
      },
      "source": [
        "from keras.models import load_model\n",
        "\n",
        "model.save('test_Warden_model.h5')"
      ],
      "execution_count": 0,
      "outputs": []
    },
    {
      "cell_type": "code",
      "metadata": {
        "id": "ENq76bkyKbrI",
        "colab_type": "code",
        "colab": {}
      },
      "source": [
        "from keras.models import load_model\n",
        "model = load_model('model.h5')"
      ],
      "execution_count": 0,
      "outputs": []
    }
  ]
}